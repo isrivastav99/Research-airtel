{
 "cells": [
  {
   "cell_type": "code",
   "execution_count": 9,
   "metadata": {},
   "outputs": [],
   "source": [
    "import pandas as pd\n",
    "import matplotlib.pyplot as plt\n",
    "df = pd.read_csv('/home/ishaan/Documents/Work/Data/Sheet1.csv',  sep = ';')\n",
    "pd.set_option('display.max_columns', 50)\n",
    "pd.set_option('display.max_rows', 5000)\n",
    "df.drop(df.columns[24:], axis =1, inplace = True)\n"
   ]
  },
  {
   "cell_type": "code",
   "execution_count": 23,
   "metadata": {},
   "outputs": [],
   "source": [
    "df['Gender'].replace(\n",
    "    to_replace=['Gril'],\n",
    "    value='Girl',\n",
    "    inplace=True\n",
    ")"
   ]
  },
  {
   "cell_type": "code",
   "execution_count": 72,
   "metadata": {},
   "outputs": [],
   "source": [
    "df['Career Final'] = ''"
   ]
  },
  {
   "cell_type": "code",
   "execution_count": 74,
   "metadata": {},
   "outputs": [],
   "source": [
    "df['Gender of the drawing'] = df['Gender of the drawing'].str.capitalize()\n",
    "df['Gender'] = df['Gender'].str.capitalize()\n",
    "df['Career Drawn'] = df['Career Drawn'].str.capitalize()\n",
    "df['Favourite Colour'] = df['Favourite Colour'].str.capitalize()"
   ]
  },
  {
   "cell_type": "code",
   "execution_count": 12,
   "metadata": {},
   "outputs": [
    {
     "data": {
      "text/plain": [
       "132"
      ]
     },
     "execution_count": 12,
     "metadata": {},
     "output_type": "execute_result"
    }
   ],
   "source": [
    "dd = df[~df['Gender of the drawing'].isin(['Male', 'Female'])]\n",
    "dd.groupby('Gender of the drawing').count()['Sno'].sum()"
   ]
  },
  {
   "cell_type": "code",
   "execution_count": 13,
   "metadata": {},
   "outputs": [],
   "source": [
    "G = pd.isnull(df['Gender'])\n",
    "Gender_missing = df[G]\n",
    "gd = pd.isnull(df['Gender of the drawing'])\n",
    "Gd_missing = df[gd]\n",
    "Cd = pd.isnull(df['Career Drawn'])\n",
    "Cd_missing = df[Cd]"
   ]
  },
  {
   "cell_type": "code",
   "execution_count": 14,
   "metadata": {},
   "outputs": [],
   "source": [
    "r = [Cd_missing, Gd_missing, Gender_missing ,dd]\n",
    "remove = pd.concat(r, sort = True)\n"
   ]
  },
  {
   "cell_type": "code",
   "execution_count": 18,
   "metadata": {},
   "outputs": [],
   "source": [
    "Cdd = df[(df['Career Drawn'] == 'Not clear') |(df['Career Drawn'] == 'Unclear') |(df['Career Drawn'] == 'Unspecified')  ]\n",
    "\n",
    "df.drop(Cdd.index , inplace = True)"
   ]
  },
  {
   "cell_type": "code",
   "execution_count": 25,
   "metadata": {},
   "outputs": [],
   "source": [
    "Gdd = df[(df['Gender'] == 'Not clear') ]\n",
    "\n",
    "df.drop(Gdd.index , inplace = True)"
   ]
  },
  {
   "cell_type": "code",
   "execution_count": 15,
   "metadata": {},
   "outputs": [],
   "source": [
    "df.drop(remove.index , inplace = True)"
   ]
  },
  {
   "cell_type": "code",
   "execution_count": 26,
   "metadata": {},
   "outputs": [
    {
     "data": {
      "text/plain": [
       "Girl    0.523453\n",
       "Boy     0.476547\n",
       "Name: Gender, dtype: float64"
      ]
     },
     "execution_count": 26,
     "metadata": {},
     "output_type": "execute_result"
    }
   ],
   "source": [
    "df['Gender'].value_counts(normalize = True)"
   ]
  },
  {
   "cell_type": "code",
   "execution_count": 107,
   "metadata": {},
   "outputs": [],
   "source": [
    "df['Career Drawn'].replace(\n",
    "    to_replace=['Army woman', 'Comando', 'Indian army', 'Commando', 'Soldier', 'Army  officer', 'Army officer', 'Armt', 'Crpf', 'Fauzi', 'Army man'],\n",
    "    value='Army',\n",
    "    inplace=True\n",
    ")\n",
    "df['Career Drawn'].replace(\n",
    "    to_replace=['Computer teacher','Math teacher', 'English tacher', 'Music teacher', 'Hindi teacher'],\n",
    "    value='Teacher',\n",
    "    inplace=True\n",
    ")\n",
    "df['Career Drawn'].replace(\n",
    "    to_replace=['Doctor / nurse', 'Brain doctor', 'Doctor of ear'],\n",
    "    value='Doctor',\n",
    "    inplace=True\n",
    ")\n",
    "df['Career Drawn'].replace(\n",
    "    to_replace=['Policeman','Police inspector','Acp','Police man','Polce', 'Police woman', 'Police dsp', 'Police officer', 'Ladies police', 'Punjab police'],\n",
    "    value='Police',\n",
    "    inplace=True\n",
    ")\n",
    "df['Career Drawn'].replace(\n",
    "    to_replace=['Footballer', 'Foot ball player'],\n",
    "    value='Football player',\n",
    "    inplace=True\n",
    ")\n",
    "df['Career Drawn'].replace(\n",
    "    to_replace=['Karate king'],\n",
    "    value='Karate',\n",
    "    inplace=True\n",
    ")\n",
    "df['Career Drawn'].replace(\n",
    "    to_replace=['Computer engineer', 'Software engineer'],\n",
    "    value='Engineer',\n",
    "    inplace=True\n",
    ")\n",
    "df['Career Drawn'].replace(\n",
    "    to_replace=['Planting trees'],\n",
    "    value='Planter',\n",
    "    inplace=True\n",
    ")"
   ]
  },
  {
   "cell_type": "code",
   "execution_count": 108,
   "metadata": {
    "scrolled": true
   },
   "outputs": [
    {
     "data": {
      "text/plain": [
       "Career Drawn\n",
       "Teacher                 753\n",
       "Doctor                  327\n",
       "Army                    313\n",
       "Police                  238\n",
       "Football player          87\n",
       "Nurse                    65\n",
       "Farmer                   52\n",
       "Singer                   46\n",
       "Engineer                 45\n",
       "Scientist                36\n",
       "Pilot                    27\n",
       "Painter                  23\n",
       "Dancer                   21\n",
       "Cricketer                20\n",
       "House wife               19\n",
       "Sports person            17\n",
       "Lawyer                   14\n",
       "Model                    13\n",
       "Cricketer                13\n",
       "Artist                   12\n",
       "Builder                  12\n",
       "Driver                   11\n",
       "Ips officer              11\n",
       "Fashion designer         10\n",
       "Air hostess              10\n",
       "Train driver              9\n",
       "Environmentalist          8\n",
       "Mechanic                  8\n",
       "Architect                 7\n",
       "Tailor                    6\n",
       "Office work               6\n",
       "Leader                    6\n",
       "Badminton player          6\n",
       "Ambulance driver          6\n",
       "Astronaut                 6\n",
       "Mehandi designer          6\n",
       "Social worker             6\n",
       "Bank manager              5\n",
       "Bus driver                5\n",
       "Chef                      5\n",
       "Player                    5\n",
       "Designer                  5\n",
       "Office job                5\n",
       "Traffic police            5\n",
       "Factories man             4\n",
       "Karate                    4\n",
       "Judge                     4\n",
       "Ias officer               4\n",
       "Hockey player             4\n",
       "Computer operator         4\n",
       "Shop keeper               4\n",
       "Air force                 4\n",
       "Sister religion           3\n",
       "D j player                3\n",
       "Mistry                    3\n",
       "Astronot                  3\n",
       "Bank officer              3\n",
       "Politician                3\n",
       "Principal                 3\n",
       "Guitarist                 3\n",
       "Actor                     3\n",
       "Software                  3\n",
       "Cid officer               2\n",
       "Boxer                     2\n",
       "Planter                   2\n",
       "Reporter                  2\n",
       "Goal keeper               2\n",
       "Gospel singer             2\n",
       "Cycle                     2\n",
       "Athele                    2\n",
       "Masson                    2\n",
       "Civilian                  2\n",
       "Computer worker           2\n",
       "Player ball               2\n",
       "Beautician                2\n",
       "Actress                   2\n",
       "Poet                      2\n",
       "Basket ball player        2\n",
       "Cleaner                   2\n",
       "Banker                    2\n",
       "Cook                      2\n",
       "Restaurant owner          2\n",
       "Rich                      2\n",
       "Deshbhakt                 2\n",
       "Sweeper                   2\n",
       "Carpenter                 2\n",
       "Spacecraft                2\n",
       "Photographer              2\n",
       "Carpenter/police          2\n",
       "Enironment                2\n",
       "Musician                  2\n",
       "Dj                        2\n",
       "Navy                      2\n",
       "Writer                    1\n",
       "Tree cutter               1\n",
       "Written in kannada        1\n",
       "Truck driver              1\n",
       "Player                    1\n",
       "Paster                    1\n",
       "Pastor                    1\n",
       "Van driver                1\n",
       "Petrol pump               1\n",
       "Shutter                   1\n",
       "Umpire                    1\n",
       "Weaver                    1\n",
       "Trecking                  1\n",
       "Transporter               1\n",
       "Police                    1\n",
       "Pope                      1\n",
       "Officer                   1\n",
       "Shooter                   1\n",
       "Spider man                1\n",
       "Sports                    1\n",
       "Sharp shooter             1\n",
       "Security guard            1\n",
       "Student                   1\n",
       "Sub inspector             1\n",
       "Security                  1\n",
       "Teacher                   1\n",
       "Sailor                    1\n",
       "Tenis player              1\n",
       "Researcher                1\n",
       "Reader                    1\n",
       "Racer                     1\n",
       "Sketch painter            1\n",
       "Professor                 1\n",
       "Professional              1\n",
       "Shop owner                1\n",
       "President                 1\n",
       "Post man                  1\n",
       "Punjabi singher           1\n",
       "Indian navy               1\n",
       "Nursery                   1\n",
       "Nun                       1\n",
       "Dentist                   1\n",
       "Construction job          1\n",
       "Computer  operator        1\n",
       "Computer                  1\n",
       "Common man                1\n",
       "Clown                     1\n",
       "Clerk                     1\n",
       "Cid                       1\n",
       "Chowkidaar                1\n",
       "Chotta bheem              1\n",
       "Charity                   1\n",
       "Cbi                       1\n",
       "Cartoon                   1\n",
       "Car mechanic              1\n",
       "Car driver                1\n",
       "Captain of ship           1\n",
       "Butcher                   1\n",
       "Business man              1\n",
       "Business                  1\n",
       "Bird scather              1\n",
       "Biker                     1\n",
       "Band                      1\n",
       "Automobile repairing      1\n",
       "Athlete                   1\n",
       "Astronomy                 1\n",
       "Army driver               1\n",
       "Animal husbandry          1\n",
       "Agriculture               1\n",
       "Advocate                  1\n",
       "District collector        1\n",
       "Dj operator               1\n",
       "Dsp                       1\n",
       "Ips                       1\n",
       "Ninja                     1\n",
       "Music                     1\n",
       "Mother                    1\n",
       "Monitor                   1\n",
       "Missionary pastor         1\n",
       "Minister                  1\n",
       "Magician                  1\n",
       "Lectural                  1\n",
       "Lawyer                    1\n",
       "King                      1\n",
       "Kabbadi playet            1\n",
       "Job                       1\n",
       "Jailor                    1\n",
       "Inspector                 1\n",
       "Electician                1\n",
       "Hotel management          1\n",
       "Horticulture              1\n",
       "History teacher           1\n",
       "Head clerk                1\n",
       "Halwai                    1\n",
       "Goldsmith                 1\n",
       "Gangster                  1\n",
       "Gamer                     1\n",
       "Forest guard              1\n",
       "Florist                   1\n",
       "Fire man                  1\n",
       "Film industry             1\n",
       "Factory                   1\n",
       "Yoga                      1\n",
       "Name: Sno, dtype: int64"
      ]
     },
     "execution_count": 108,
     "metadata": {},
     "output_type": "execute_result"
    }
   ],
   "source": [
    "Prof= df.groupby('Career Drawn').count()\n",
    "Prof.sort_values(['Sno'], ascending = False)['Sno']\n",
    "#D = C > 9\n",
    "#C[D].sum()"
   ]
  },
  {
   "cell_type": "code",
   "execution_count": 109,
   "metadata": {},
   "outputs": [],
   "source": [
    "Arm = df[(df['Career Drawn'] == 'Cid officer' )|(df['Career Drawn'] == 'Navy' )|(df['Career Drawn'] == 'Army' ) |(df['Career Drawn'] == 'Air force' ) | (df['Career Drawn'] == 'Police' ) |(df['Career Drawn'] == 'Ips officer' ) | (df['Career Drawn'] == 'Traffic Police')]\n",
    "df.at[Arm.index, 'Career Final'] = 'Defence and Police'\n",
    "\n",
    "Al = df[(df['Career Drawn'] == 'Farmer' )|(df['Career Drawn'] == 'Florist' )|(df['Career Drawn'] == 'Tree cutter' )|(df['Career Drawn'] == 'Planter')]\n",
    "df.at[Al.index, 'Career Final'] = 'Agriculture and Livestock'\n",
    "\n",
    "Eo = df[(df['Career Drawn'] == 'Sweeper' )|(df['Career Drawn'] == 'Carpenter/police' )|(df['Career Drawn'] == 'Masson' )|(df['Career Drawn'] == 'Van driver' )|(df['Career Drawn'] == 'Truck driver' )|(df['Career Drawn'] == 'Cleaner' )|(df['Career Drawn'] == 'Bus driver' )| (df['Career Drawn'] == 'Mistry' ) | (df['Career Drawn'] == 'Factories man' ) |(df['Career Drawn'] == 'Builder' )| (df['Career Drawn'] == 'Driver' )| (df['Career Drawn'] == 'Train driver')| (df['Career Drawn'] == 'Mechanic')| (df['Career Drawn'] == 'Ambulance driver')]\n",
    "df.at[Eo.index, 'Career Final'] = 'Elementary Occupations'\n",
    "\n",
    "Stem = df[(df['Career Drawn'] == 'Computer worker' )|(df['Career Drawn'] == 'Scientist' ) |(df['Career Drawn'] == 'Software' ) | (df['Career Drawn'] == 'Engineer' ) | (df['Career Drawn'] == 'Architect' )]\n",
    "df.at[Stem.index, 'Career Final'] = 'Science Technology and Mathematics'\n",
    "\n",
    "Teachers = df[(df['Career Drawn'] == 'Teacher' ) | (df['Career Drawn'] == 'Professor' )]\n",
    "df.at[Teachers.index, 'Career Final'] = 'Teacher'\n",
    "\n",
    "Doc = df[(df['Career Drawn'] == 'dentist') |(df['Career Drawn'] == 'Doctor')|(df['Career Drawn'] == 'Nurse')  ]\n",
    "df.at[Doc.index, 'Career Final'] = 'Health'\n",
    "\n",
    "Art = df[(df['Career Drawn'] == 'Poet' )|(df['Career Drawn'] == 'Artist' ) |(df['Career Drawn'] == 'Dancer' ) |(df['Career Drawn'] == 'Painter' ) |(df['Career Drawn'] == 'Singer' ) |(df['Career Drawn'] == 'Fashion designer' ) |(df['Career Drawn'] == 'Model' ) |(df['Career Drawn'] == 'Music' ) |(df['Career Drawn'] == 'Band' ) |(df['Career Drawn'] == 'Sketch painter' ) |(df['Career Drawn'] == 'Guitarist' ) | (df['Career Drawn'] == 'Musician' )|(df['Career Drawn'] == 'Actor' ) | (df['Career Drawn'] == 'Actress')| (df['Career Drawn'] == 'Writer')| (df['Career Drawn'] == 'Punjabi singher')]\n",
    "df.at[Art.index, 'Career Final'] = 'Performing Art'\n",
    "\n",
    "Sports = df[(df['Career Drawn'] == 'Kabaddi playet')|(df['Career Drawn'] == 'Athlete')|(df['Career Drawn'] == 'Karate')|(df['Career Drawn'] == 'Umpire' )|(df['Career Drawn'] == 'Tenis player' )|(df['Career Drawn'] == 'Boxer' )|(df['Career Drawn'] == 'Athele' )|(df['Career Drawn'] == 'Sports person' )|(df['Career Drawn'] == 'Basket ball player' )| (df['Career Drawn'] == 'Football player' )| (df['Career Drawn'] == 'Cricketer' )| (df['Career Drawn'] == 'Badminton player')| (df['Career Drawn'] == 'Player')| (df['Career Drawn'] == 'Hockey player')| (df['Career Drawn'] == 'Player ball')]\n",
    "df.at[Sports.index, 'Career Final'] = 'Sports'"
   ]
  },
  {
   "cell_type": "code",
   "execution_count": 78,
   "metadata": {},
   "outputs": [],
   "source": []
  },
  {
   "cell_type": "code",
   "execution_count": 118,
   "metadata": {},
   "outputs": [],
   "source": [
    "#Prof= df.groupby('Career Final').count()\n",
    "#Prof.sort_values(['Sno'], ascending = False)['Sno']\n",
    "df['Career Final'].replace(\n",
    "    to_replace=[''],\n",
    "    value='Others',\n",
    "    inplace=True\n",
    ")\n",
    "\n"
   ]
  },
  {
   "cell_type": "code",
   "execution_count": 119,
   "metadata": {},
   "outputs": [
    {
     "ename": "AttributeError",
     "evalue": "'Series' object has no attribute 'Class'",
     "output_type": "error",
     "traceback": [
      "\u001b[0;31m---------------------------------------------------------------------------\u001b[0m",
      "\u001b[0;31mAttributeError\u001b[0m                            Traceback (most recent call last)",
      "\u001b[0;32m<ipython-input-119-f8e1db0a71c4>\u001b[0m in \u001b[0;36m<module>\u001b[0;34m\u001b[0m\n\u001b[1;32m      1\u001b[0m \u001b[0mfig\u001b[0m\u001b[0;34m,\u001b[0m\u001b[0max\u001b[0m \u001b[0;34m=\u001b[0m \u001b[0mplt\u001b[0m\u001b[0;34m.\u001b[0m\u001b[0msubplots\u001b[0m\u001b[0;34m(\u001b[0m\u001b[0;34m)\u001b[0m\u001b[0;34m\u001b[0m\u001b[0;34m\u001b[0m\u001b[0m\n\u001b[0;32m----> 2\u001b[0;31m \u001b[0mdata\u001b[0m \u001b[0;34m=\u001b[0m \u001b[0mA\u001b[0m\u001b[0;34m.\u001b[0m\u001b[0mClass\u001b[0m\u001b[0;34m.\u001b[0m\u001b[0mvalue_counts\u001b[0m\u001b[0;34m(\u001b[0m\u001b[0mnormalize\u001b[0m \u001b[0;34m=\u001b[0m \u001b[0;32mTrue\u001b[0m\u001b[0;34m)\u001b[0m\u001b[0;34m\u001b[0m\u001b[0;34m\u001b[0m\u001b[0m\n\u001b[0m\u001b[1;32m      3\u001b[0m \u001b[0mpoints\u001b[0m \u001b[0;34m=\u001b[0m \u001b[0mdata\u001b[0m\u001b[0;34m.\u001b[0m\u001b[0mindex\u001b[0m\u001b[0;34m\u001b[0m\u001b[0;34m\u001b[0m\u001b[0m\n\u001b[1;32m      4\u001b[0m \u001b[0mfrequency\u001b[0m \u001b[0;34m=\u001b[0m \u001b[0mdata\u001b[0m\u001b[0;34m.\u001b[0m\u001b[0mvalues\u001b[0m\u001b[0;34m\u001b[0m\u001b[0;34m\u001b[0m\u001b[0m\n\u001b[1;32m      5\u001b[0m \u001b[0;31m# create bar chart\u001b[0m\u001b[0;34m\u001b[0m\u001b[0;34m\u001b[0m\u001b[0;34m\u001b[0m\u001b[0m\n",
      "\u001b[0;32m~/anaconda3/lib/python3.7/site-packages/pandas/core/generic.py\u001b[0m in \u001b[0;36m__getattr__\u001b[0;34m(self, name)\u001b[0m\n\u001b[1;32m   5177\u001b[0m             \u001b[0;32mif\u001b[0m \u001b[0mself\u001b[0m\u001b[0;34m.\u001b[0m\u001b[0m_info_axis\u001b[0m\u001b[0;34m.\u001b[0m\u001b[0m_can_hold_identifiers_and_holds_name\u001b[0m\u001b[0;34m(\u001b[0m\u001b[0mname\u001b[0m\u001b[0;34m)\u001b[0m\u001b[0;34m:\u001b[0m\u001b[0;34m\u001b[0m\u001b[0;34m\u001b[0m\u001b[0m\n\u001b[1;32m   5178\u001b[0m                 \u001b[0;32mreturn\u001b[0m \u001b[0mself\u001b[0m\u001b[0;34m[\u001b[0m\u001b[0mname\u001b[0m\u001b[0;34m]\u001b[0m\u001b[0;34m\u001b[0m\u001b[0;34m\u001b[0m\u001b[0m\n\u001b[0;32m-> 5179\u001b[0;31m             \u001b[0;32mreturn\u001b[0m \u001b[0mobject\u001b[0m\u001b[0;34m.\u001b[0m\u001b[0m__getattribute__\u001b[0m\u001b[0;34m(\u001b[0m\u001b[0mself\u001b[0m\u001b[0;34m,\u001b[0m \u001b[0mname\u001b[0m\u001b[0;34m)\u001b[0m\u001b[0;34m\u001b[0m\u001b[0;34m\u001b[0m\u001b[0m\n\u001b[0m\u001b[1;32m   5180\u001b[0m \u001b[0;34m\u001b[0m\u001b[0m\n\u001b[1;32m   5181\u001b[0m     \u001b[0;32mdef\u001b[0m \u001b[0m__setattr__\u001b[0m\u001b[0;34m(\u001b[0m\u001b[0mself\u001b[0m\u001b[0;34m,\u001b[0m \u001b[0mname\u001b[0m\u001b[0;34m,\u001b[0m \u001b[0mvalue\u001b[0m\u001b[0;34m)\u001b[0m\u001b[0;34m:\u001b[0m\u001b[0;34m\u001b[0m\u001b[0;34m\u001b[0m\u001b[0m\n",
      "\u001b[0;31mAttributeError\u001b[0m: 'Series' object has no attribute 'Class'"
     ]
    },
    {
     "data": {
      "image/png": "[encoded data removed]",
      "text/plain": [
       "<Figure size 432x288 with 1 Axes>"
      ]
     },
     "metadata": {
      "needs_background": "light"
     },
     "output_type": "display_data"
    }
   ],
   "source": [
    "fig,ax = plt.subplots()\n",
    "data = df.Class.value_counts(normalize = True)\n",
    "points = data.index \n",
    "frequency = data.values \n",
    "# create bar chart \n",
    "ax.bar(points, frequency) \n",
    "# set title and labels \n",
    "ax.set_title('Career Drawn ') \n",
    "ax.set_xlabel('Careers') \n",
    "ax.set_ylabel('Frequency')\n",
    "#plt.savefig('foo.png')"
   ]
  },
  {
   "cell_type": "code",
   "execution_count": 28,
   "metadata": {},
   "outputs": [],
   "source": [
    "df.to_csv('/home/ishaan/Documents/Work/Data/S1.csv', index=False)"
   ]
  },
  {
   "cell_type": "code",
   "execution_count": null,
   "metadata": {},
   "outputs": [],
   "source": []
  }
 ],
 "metadata": {
  "kernelspec": {
   "display_name": "Python 3",
   "language": "python",
   "name": "python3"
  },
  "language_info": {
   "codemirror_mode": {
    "name": "ipython",
    "version": 3
   },
   "file_extension": ".py",
   "mimetype": "text/x-python",
   "name": "python",
   "nbconvert_exporter": "python",
   "pygments_lexer": "ipython3",
   "version": "3.7.4"
  }
 },
 "nbformat": 4,
 "nbformat_minor": 4
}
